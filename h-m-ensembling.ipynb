{
 "cells": [
  {
   "cell_type": "code",
   "execution_count": 1,
   "id": "7826b130",
   "metadata": {
    "_cell_guid": "b1076dfc-b9ad-4769-8c92-a6c4dae69d19",
    "_uuid": "8f2839f25d086af736a60e9eeb907d3b93b6e0e5",
    "execution": {
     "iopub.execute_input": "2022-05-01T21:19:07.509007Z",
     "iopub.status.busy": "2022-05-01T21:19:07.508402Z",
     "iopub.status.idle": "2022-05-01T21:19:07.523037Z",
     "shell.execute_reply": "2022-05-01T21:19:07.522087Z"
    },
    "papermill": {
     "duration": 0.031737,
     "end_time": "2022-05-01T21:19:07.525328",
     "exception": false,
     "start_time": "2022-05-01T21:19:07.493591",
     "status": "completed"
    },
    "tags": []
   },
   "outputs": [
    {
     "data": {
      "text/plain": [
       "\"import os\\nfor dirname, _, filenames in os.walk('/kaggle/input'):\\n    for filename in filenames:\\n        print(os.path.join(dirname, filename))\""
      ]
     },
     "execution_count": 1,
     "metadata": {},
     "output_type": "execute_result"
    }
   ],
   "source": [
    "# This Python 3 environment comes with many helpful analytics libraries installed\n",
    "# It is defined by the kaggle/pyt\"hon Docker image: https://github.com/kaggle/docker-python\n",
    "# For example, here's several helpful packages to load\n",
    "\n",
    "import numpy as np # linear algebra\n",
    "import pandas as pd # data processing, CSV file I/O (e.g. pd.read_csv)\n",
    "\n",
    "# Input data files are available in the read-only \"../input/\" directory\n",
    "# For example, running this (by clicking run or pressing Shift+Enter) will list all files under the input directory\n",
    "\n",
    "\"\"\"import os\n",
    "for dirname, _, filenames in os.walk('/kaggle/input'):\n",
    "    for filename in filenames:\n",
    "        print(os.path.join(dirname, filename))\"\"\"\n",
    "\n",
    "# You can write up to 20GB to the current directory (/kaggle/working/) that gets preserved as output when you create a version using \"Save & Run All\" \n",
    "# You can also write temporary files to /kaggle/temp/, but they won't be saved outside of the current session"
   ]
  },
  {
   "cell_type": "code",
   "execution_count": 2,
   "id": "c2506d30",
   "metadata": {
    "execution": {
     "iopub.execute_input": "2022-05-01T21:19:07.552239Z",
     "iopub.status.busy": "2022-05-01T21:19:07.551723Z",
     "iopub.status.idle": "2022-05-01T21:19:14.325295Z",
     "shell.execute_reply": "2022-05-01T21:19:14.324480Z"
    },
    "papermill": {
     "duration": 6.789588,
     "end_time": "2022-05-01T21:19:14.327746",
     "exception": false,
     "start_time": "2022-05-01T21:19:07.538158",
     "status": "completed"
    },
    "tags": []
   },
   "outputs": [],
   "source": [
    "a=pd.read_csv('../input/h-and-m-personalized-fashion-recommendations/sample_submission.csv').sort_values('customer_id').reset_index(drop=True) "
   ]
  },
  {
   "cell_type": "code",
   "execution_count": 3,
   "id": "210e9050",
   "metadata": {
    "execution": {
     "iopub.execute_input": "2022-05-01T21:19:14.353979Z",
     "iopub.status.busy": "2022-05-01T21:19:14.353670Z",
     "iopub.status.idle": "2022-05-01T21:19:14.369132Z",
     "shell.execute_reply": "2022-05-01T21:19:14.368257Z"
    },
    "papermill": {
     "duration": 0.031398,
     "end_time": "2022-05-01T21:19:14.371592",
     "exception": false,
     "start_time": "2022-05-01T21:19:14.340194",
     "status": "completed"
    },
    "tags": []
   },
   "outputs": [
    {
     "data": {
      "text/html": [
       "<div>\n",
       "<style scoped>\n",
       "    .dataframe tbody tr th:only-of-type {\n",
       "        vertical-align: middle;\n",
       "    }\n",
       "\n",
       "    .dataframe tbody tr th {\n",
       "        vertical-align: top;\n",
       "    }\n",
       "\n",
       "    .dataframe thead th {\n",
       "        text-align: right;\n",
       "    }\n",
       "</style>\n",
       "<table border=\"1\" class=\"dataframe\">\n",
       "  <thead>\n",
       "    <tr style=\"text-align: right;\">\n",
       "      <th></th>\n",
       "      <th>customer_id</th>\n",
       "      <th>prediction</th>\n",
       "    </tr>\n",
       "  </thead>\n",
       "  <tbody>\n",
       "    <tr>\n",
       "      <th>0</th>\n",
       "      <td>00000dbacae5abe5e23885899a1fa44253a17956c6d1c3...</td>\n",
       "      <td>0706016001 0706016002 0372860001 0610776002 07...</td>\n",
       "    </tr>\n",
       "    <tr>\n",
       "      <th>1</th>\n",
       "      <td>0000423b00ade91418cceaf3b26c6af3dd342b51fd051e...</td>\n",
       "      <td>0706016001 0706016002 0372860001 0610776002 07...</td>\n",
       "    </tr>\n",
       "    <tr>\n",
       "      <th>2</th>\n",
       "      <td>000058a12d5b43e67d225668fa1f8d618c13dc232df0ca...</td>\n",
       "      <td>0706016001 0706016002 0372860001 0610776002 07...</td>\n",
       "    </tr>\n",
       "    <tr>\n",
       "      <th>3</th>\n",
       "      <td>00005ca1c9ed5f5146b52ac8639a40ca9d57aeff4d1bd2...</td>\n",
       "      <td>0706016001 0706016002 0372860001 0610776002 07...</td>\n",
       "    </tr>\n",
       "    <tr>\n",
       "      <th>4</th>\n",
       "      <td>00006413d8573cd20ed7128e53b7b13819fe5cfc2d801f...</td>\n",
       "      <td>0706016001 0706016002 0372860001 0610776002 07...</td>\n",
       "    </tr>\n",
       "    <tr>\n",
       "      <th>...</th>\n",
       "      <td>...</td>\n",
       "      <td>...</td>\n",
       "    </tr>\n",
       "    <tr>\n",
       "      <th>1371975</th>\n",
       "      <td>ffffbbf78b6eaac697a8a5dfbfd2bfa8113ee5b403e474...</td>\n",
       "      <td>0706016001 0706016002 0372860001 0610776002 07...</td>\n",
       "    </tr>\n",
       "    <tr>\n",
       "      <th>1371976</th>\n",
       "      <td>ffffcd5046a6143d29a04fb8c424ce494a76e5cdf4fab5...</td>\n",
       "      <td>0706016001 0706016002 0372860001 0610776002 07...</td>\n",
       "    </tr>\n",
       "    <tr>\n",
       "      <th>1371977</th>\n",
       "      <td>ffffcf35913a0bee60e8741cb2b4e78b8a98ee5ff2e6a1...</td>\n",
       "      <td>0706016001 0706016002 0372860001 0610776002 07...</td>\n",
       "    </tr>\n",
       "    <tr>\n",
       "      <th>1371978</th>\n",
       "      <td>ffffd7744cebcf3aca44ae7049d2a94b87074c3d4ffe38...</td>\n",
       "      <td>0706016001 0706016002 0372860001 0610776002 07...</td>\n",
       "    </tr>\n",
       "    <tr>\n",
       "      <th>1371979</th>\n",
       "      <td>ffffd9ac14e89946416d80e791d064701994755c3ab686...</td>\n",
       "      <td>0706016001 0706016002 0372860001 0610776002 07...</td>\n",
       "    </tr>\n",
       "  </tbody>\n",
       "</table>\n",
       "<p>1371980 rows × 2 columns</p>\n",
       "</div>"
      ],
      "text/plain": [
       "                                               customer_id  \\\n",
       "0        00000dbacae5abe5e23885899a1fa44253a17956c6d1c3...   \n",
       "1        0000423b00ade91418cceaf3b26c6af3dd342b51fd051e...   \n",
       "2        000058a12d5b43e67d225668fa1f8d618c13dc232df0ca...   \n",
       "3        00005ca1c9ed5f5146b52ac8639a40ca9d57aeff4d1bd2...   \n",
       "4        00006413d8573cd20ed7128e53b7b13819fe5cfc2d801f...   \n",
       "...                                                    ...   \n",
       "1371975  ffffbbf78b6eaac697a8a5dfbfd2bfa8113ee5b403e474...   \n",
       "1371976  ffffcd5046a6143d29a04fb8c424ce494a76e5cdf4fab5...   \n",
       "1371977  ffffcf35913a0bee60e8741cb2b4e78b8a98ee5ff2e6a1...   \n",
       "1371978  ffffd7744cebcf3aca44ae7049d2a94b87074c3d4ffe38...   \n",
       "1371979  ffffd9ac14e89946416d80e791d064701994755c3ab686...   \n",
       "\n",
       "                                                prediction  \n",
       "0        0706016001 0706016002 0372860001 0610776002 07...  \n",
       "1        0706016001 0706016002 0372860001 0610776002 07...  \n",
       "2        0706016001 0706016002 0372860001 0610776002 07...  \n",
       "3        0706016001 0706016002 0372860001 0610776002 07...  \n",
       "4        0706016001 0706016002 0372860001 0610776002 07...  \n",
       "...                                                    ...  \n",
       "1371975  0706016001 0706016002 0372860001 0610776002 07...  \n",
       "1371976  0706016001 0706016002 0372860001 0610776002 07...  \n",
       "1371977  0706016001 0706016002 0372860001 0610776002 07...  \n",
       "1371978  0706016001 0706016002 0372860001 0610776002 07...  \n",
       "1371979  0706016001 0706016002 0372860001 0610776002 07...  \n",
       "\n",
       "[1371980 rows x 2 columns]"
      ]
     },
     "execution_count": 3,
     "metadata": {},
     "output_type": "execute_result"
    }
   ],
   "source": [
    "a"
   ]
  },
  {
   "cell_type": "code",
   "execution_count": 4,
   "id": "cd9dfcdc",
   "metadata": {
    "execution": {
     "iopub.execute_input": "2022-05-01T21:19:14.399296Z",
     "iopub.status.busy": "2022-05-01T21:19:14.399014Z",
     "iopub.status.idle": "2022-05-01T21:19:20.417049Z",
     "shell.execute_reply": "2022-05-01T21:19:20.416392Z"
    },
    "papermill": {
     "duration": 6.034421,
     "end_time": "2022-05-01T21:19:20.419297",
     "exception": false,
     "start_time": "2022-05-01T21:19:14.384876",
     "status": "completed"
    },
    "tags": []
   },
   "outputs": [],
   "source": [
    "b=pd.read_csv(\"../input/hnm-10/submission_HnM0.237.csv\")"
   ]
  },
  {
   "cell_type": "code",
   "execution_count": 5,
   "id": "cb8088ee",
   "metadata": {
    "execution": {
     "iopub.execute_input": "2022-05-01T21:19:20.447403Z",
     "iopub.status.busy": "2022-05-01T21:19:20.446933Z",
     "iopub.status.idle": "2022-05-01T21:19:20.456654Z",
     "shell.execute_reply": "2022-05-01T21:19:20.456115Z"
    },
    "papermill": {
     "duration": 0.026163,
     "end_time": "2022-05-01T21:19:20.458673",
     "exception": false,
     "start_time": "2022-05-01T21:19:20.432510",
     "status": "completed"
    },
    "tags": []
   },
   "outputs": [
    {
     "data": {
      "text/html": [
       "<div>\n",
       "<style scoped>\n",
       "    .dataframe tbody tr th:only-of-type {\n",
       "        vertical-align: middle;\n",
       "    }\n",
       "\n",
       "    .dataframe tbody tr th {\n",
       "        vertical-align: top;\n",
       "    }\n",
       "\n",
       "    .dataframe thead th {\n",
       "        text-align: right;\n",
       "    }\n",
       "</style>\n",
       "<table border=\"1\" class=\"dataframe\">\n",
       "  <thead>\n",
       "    <tr style=\"text-align: right;\">\n",
       "      <th></th>\n",
       "      <th>customer_id</th>\n",
       "      <th>prediction</th>\n",
       "    </tr>\n",
       "  </thead>\n",
       "  <tbody>\n",
       "    <tr>\n",
       "      <th>0</th>\n",
       "      <td>00000dbacae5abe5e23885899a1fa44253a17956c6d1c3...</td>\n",
       "      <td>0568601043 0568601006 0751471001 0448509014 07...</td>\n",
       "    </tr>\n",
       "    <tr>\n",
       "      <th>1</th>\n",
       "      <td>0000423b00ade91418cceaf3b26c6af3dd342b51fd051e...</td>\n",
       "      <td>0826211002 0924243001 0739590027 0800436010 09...</td>\n",
       "    </tr>\n",
       "    <tr>\n",
       "      <th>2</th>\n",
       "      <td>000058a12d5b43e67d225668fa1f8d618c13dc232df0ca...</td>\n",
       "      <td>0794321007 0852643001 0852643003 0858883002 09...</td>\n",
       "    </tr>\n",
       "    <tr>\n",
       "      <th>3</th>\n",
       "      <td>00005ca1c9ed5f5146b52ac8639a40ca9d57aeff4d1bd2...</td>\n",
       "      <td>0448509014 0751471001 0924243001 0924243002 05...</td>\n",
       "    </tr>\n",
       "    <tr>\n",
       "      <th>4</th>\n",
       "      <td>00006413d8573cd20ed7128e53b7b13819fe5cfc2d801f...</td>\n",
       "      <td>0730683050 0791587015 0896152002 0924243001 09...</td>\n",
       "    </tr>\n",
       "    <tr>\n",
       "      <th>...</th>\n",
       "      <td>...</td>\n",
       "      <td>...</td>\n",
       "    </tr>\n",
       "    <tr>\n",
       "      <th>1371975</th>\n",
       "      <td>ffffbbf78b6eaac697a8a5dfbfd2bfa8113ee5b403e474...</td>\n",
       "      <td>0804992033 0713997002 0720125039 0740922009 05...</td>\n",
       "    </tr>\n",
       "    <tr>\n",
       "      <th>1371976</th>\n",
       "      <td>ffffcd5046a6143d29a04fb8c424ce494a76e5cdf4fab5...</td>\n",
       "      <td>0818754002 0762846031 0759871030 0924243001 06...</td>\n",
       "    </tr>\n",
       "    <tr>\n",
       "      <th>1371977</th>\n",
       "      <td>ffffcf35913a0bee60e8741cb2b4e78b8a98ee5ff2e6a1...</td>\n",
       "      <td>0884081001 0762846027 0689365050 0794819001 06...</td>\n",
       "    </tr>\n",
       "    <tr>\n",
       "      <th>1371978</th>\n",
       "      <td>ffffd7744cebcf3aca44ae7049d2a94b87074c3d4ffe38...</td>\n",
       "      <td>0882810001 0714790020 0924243001 0448509014 09...</td>\n",
       "    </tr>\n",
       "    <tr>\n",
       "      <th>1371979</th>\n",
       "      <td>ffffd9ac14e89946416d80e791d064701994755c3ab686...</td>\n",
       "      <td>0806050001 0924243001 0448509014 0751471001 09...</td>\n",
       "    </tr>\n",
       "  </tbody>\n",
       "</table>\n",
       "<p>1371980 rows × 2 columns</p>\n",
       "</div>"
      ],
      "text/plain": [
       "                                               customer_id  \\\n",
       "0        00000dbacae5abe5e23885899a1fa44253a17956c6d1c3...   \n",
       "1        0000423b00ade91418cceaf3b26c6af3dd342b51fd051e...   \n",
       "2        000058a12d5b43e67d225668fa1f8d618c13dc232df0ca...   \n",
       "3        00005ca1c9ed5f5146b52ac8639a40ca9d57aeff4d1bd2...   \n",
       "4        00006413d8573cd20ed7128e53b7b13819fe5cfc2d801f...   \n",
       "...                                                    ...   \n",
       "1371975  ffffbbf78b6eaac697a8a5dfbfd2bfa8113ee5b403e474...   \n",
       "1371976  ffffcd5046a6143d29a04fb8c424ce494a76e5cdf4fab5...   \n",
       "1371977  ffffcf35913a0bee60e8741cb2b4e78b8a98ee5ff2e6a1...   \n",
       "1371978  ffffd7744cebcf3aca44ae7049d2a94b87074c3d4ffe38...   \n",
       "1371979  ffffd9ac14e89946416d80e791d064701994755c3ab686...   \n",
       "\n",
       "                                                prediction  \n",
       "0        0568601043 0568601006 0751471001 0448509014 07...  \n",
       "1        0826211002 0924243001 0739590027 0800436010 09...  \n",
       "2        0794321007 0852643001 0852643003 0858883002 09...  \n",
       "3        0448509014 0751471001 0924243001 0924243002 05...  \n",
       "4        0730683050 0791587015 0896152002 0924243001 09...  \n",
       "...                                                    ...  \n",
       "1371975  0804992033 0713997002 0720125039 0740922009 05...  \n",
       "1371976  0818754002 0762846031 0759871030 0924243001 06...  \n",
       "1371977  0884081001 0762846027 0689365050 0794819001 06...  \n",
       "1371978  0882810001 0714790020 0924243001 0448509014 09...  \n",
       "1371979  0806050001 0924243001 0448509014 0751471001 09...  \n",
       "\n",
       "[1371980 rows x 2 columns]"
      ]
     },
     "execution_count": 5,
     "metadata": {},
     "output_type": "execute_result"
    }
   ],
   "source": [
    "b"
   ]
  },
  {
   "cell_type": "code",
   "execution_count": 6,
   "id": "6ab188cc",
   "metadata": {
    "execution": {
     "iopub.execute_input": "2022-05-01T21:19:20.488060Z",
     "iopub.status.busy": "2022-05-01T21:19:20.487767Z",
     "iopub.status.idle": "2022-05-01T21:19:26.424361Z",
     "shell.execute_reply": "2022-05-01T21:19:26.423291Z"
    },
    "papermill": {
     "duration": 5.954041,
     "end_time": "2022-05-01T21:19:26.426741",
     "exception": false,
     "start_time": "2022-05-01T21:19:20.472700",
     "status": "completed"
    },
    "tags": []
   },
   "outputs": [],
   "source": [
    "c=pd.read_csv(\"../input/hnm-20/submission_HnM0.238.csv\")"
   ]
  },
  {
   "cell_type": "code",
   "execution_count": 7,
   "id": "4a13f7e9",
   "metadata": {
    "execution": {
     "iopub.execute_input": "2022-05-01T21:19:26.456907Z",
     "iopub.status.busy": "2022-05-01T21:19:26.456423Z",
     "iopub.status.idle": "2022-05-01T21:19:26.460426Z",
     "shell.execute_reply": "2022-05-01T21:19:26.459578Z"
    },
    "papermill": {
     "duration": 0.021582,
     "end_time": "2022-05-01T21:19:26.462342",
     "exception": false,
     "start_time": "2022-05-01T21:19:26.440760",
     "status": "completed"
    },
    "tags": []
   },
   "outputs": [],
   "source": [
    "import gc"
   ]
  },
  {
   "cell_type": "code",
   "execution_count": 8,
   "id": "b931515b",
   "metadata": {
    "execution": {
     "iopub.execute_input": "2022-05-01T21:19:26.491637Z",
     "iopub.status.busy": "2022-05-01T21:19:26.491059Z",
     "iopub.status.idle": "2022-05-01T21:19:26.785396Z",
     "shell.execute_reply": "2022-05-01T21:19:26.784609Z"
    },
    "papermill": {
     "duration": 0.311278,
     "end_time": "2022-05-01T21:19:26.787426",
     "exception": false,
     "start_time": "2022-05-01T21:19:26.476148",
     "status": "completed"
    },
    "tags": []
   },
   "outputs": [
    {
     "data": {
      "text/html": [
       "<div>\n",
       "<style scoped>\n",
       "    .dataframe tbody tr th:only-of-type {\n",
       "        vertical-align: middle;\n",
       "    }\n",
       "\n",
       "    .dataframe tbody tr th {\n",
       "        vertical-align: top;\n",
       "    }\n",
       "\n",
       "    .dataframe thead th {\n",
       "        text-align: right;\n",
       "    }\n",
       "</style>\n",
       "<table border=\"1\" class=\"dataframe\">\n",
       "  <thead>\n",
       "    <tr style=\"text-align: right;\">\n",
       "      <th></th>\n",
       "      <th>customer_id</th>\n",
       "      <th>prediction0</th>\n",
       "      <th>prediction1</th>\n",
       "      <th>prediction2</th>\n",
       "    </tr>\n",
       "  </thead>\n",
       "  <tbody>\n",
       "    <tr>\n",
       "      <th>0</th>\n",
       "      <td>00000dbacae5abe5e23885899a1fa44253a17956c6d1c3...</td>\n",
       "      <td>0706016001 0706016002 0372860001 0610776002 07...</td>\n",
       "      <td>0568601043 0568601006 0751471001 0448509014 07...</td>\n",
       "      <td>0568601043 0568601006 0751471001 0448509014 09...</td>\n",
       "    </tr>\n",
       "    <tr>\n",
       "      <th>1</th>\n",
       "      <td>0000423b00ade91418cceaf3b26c6af3dd342b51fd051e...</td>\n",
       "      <td>0706016001 0706016002 0372860001 0610776002 07...</td>\n",
       "      <td>0826211002 0924243001 0739590027 0800436010 09...</td>\n",
       "      <td>0826211002 0924243001 0739590027 0800436010 09...</td>\n",
       "    </tr>\n",
       "    <tr>\n",
       "      <th>2</th>\n",
       "      <td>000058a12d5b43e67d225668fa1f8d618c13dc232df0ca...</td>\n",
       "      <td>0706016001 0706016002 0372860001 0610776002 07...</td>\n",
       "      <td>0794321007 0852643001 0852643003 0858883002 09...</td>\n",
       "      <td>0794321007 0852643001 0852643003 0924243001 08...</td>\n",
       "    </tr>\n",
       "    <tr>\n",
       "      <th>3</th>\n",
       "      <td>00005ca1c9ed5f5146b52ac8639a40ca9d57aeff4d1bd2...</td>\n",
       "      <td>0706016001 0706016002 0372860001 0610776002 07...</td>\n",
       "      <td>0448509014 0751471001 0924243001 0924243002 05...</td>\n",
       "      <td>0448509014 0751471001 0924243001 0924243002 05...</td>\n",
       "    </tr>\n",
       "    <tr>\n",
       "      <th>4</th>\n",
       "      <td>00006413d8573cd20ed7128e53b7b13819fe5cfc2d801f...</td>\n",
       "      <td>0706016001 0706016002 0372860001 0610776002 07...</td>\n",
       "      <td>0730683050 0791587015 0896152002 0924243001 09...</td>\n",
       "      <td>0730683050 0791587015 0924243001 0896152002 09...</td>\n",
       "    </tr>\n",
       "  </tbody>\n",
       "</table>\n",
       "</div>"
      ],
      "text/plain": [
       "                                         customer_id  \\\n",
       "0  00000dbacae5abe5e23885899a1fa44253a17956c6d1c3...   \n",
       "1  0000423b00ade91418cceaf3b26c6af3dd342b51fd051e...   \n",
       "2  000058a12d5b43e67d225668fa1f8d618c13dc232df0ca...   \n",
       "3  00005ca1c9ed5f5146b52ac8639a40ca9d57aeff4d1bd2...   \n",
       "4  00006413d8573cd20ed7128e53b7b13819fe5cfc2d801f...   \n",
       "\n",
       "                                         prediction0  \\\n",
       "0  0706016001 0706016002 0372860001 0610776002 07...   \n",
       "1  0706016001 0706016002 0372860001 0610776002 07...   \n",
       "2  0706016001 0706016002 0372860001 0610776002 07...   \n",
       "3  0706016001 0706016002 0372860001 0610776002 07...   \n",
       "4  0706016001 0706016002 0372860001 0610776002 07...   \n",
       "\n",
       "                                         prediction1  \\\n",
       "0  0568601043 0568601006 0751471001 0448509014 07...   \n",
       "1  0826211002 0924243001 0739590027 0800436010 09...   \n",
       "2  0794321007 0852643001 0852643003 0858883002 09...   \n",
       "3  0448509014 0751471001 0924243001 0924243002 05...   \n",
       "4  0730683050 0791587015 0896152002 0924243001 09...   \n",
       "\n",
       "                                         prediction2  \n",
       "0  0568601043 0568601006 0751471001 0448509014 09...  \n",
       "1  0826211002 0924243001 0739590027 0800436010 09...  \n",
       "2  0794321007 0852643001 0852643003 0924243001 08...  \n",
       "3  0448509014 0751471001 0924243001 0924243002 05...  \n",
       "4  0730683050 0791587015 0924243001 0896152002 09...  "
      ]
     },
     "execution_count": 8,
     "metadata": {},
     "output_type": "execute_result"
    }
   ],
   "source": [
    "a.columns = ['customer_id', 'prediction0']\n",
    "a['prediction1'] = b['prediction']\n",
    "a['prediction2'] = c['prediction'].astype(str)\n",
    "del b,c\n",
    "gc.collect()\n",
    "a.head()"
   ]
  },
  {
   "cell_type": "code",
   "execution_count": 9,
   "id": "740acd2d",
   "metadata": {
    "execution": {
     "iopub.execute_input": "2022-05-01T21:19:26.817825Z",
     "iopub.status.busy": "2022-05-01T21:19:26.817535Z",
     "iopub.status.idle": "2022-05-01T21:20:34.509371Z",
     "shell.execute_reply": "2022-05-01T21:20:34.508413Z"
    },
    "papermill": {
     "duration": 67.724261,
     "end_time": "2022-05-01T21:20:34.526253",
     "exception": false,
     "start_time": "2022-05-01T21:19:26.801992",
     "status": "completed"
    },
    "tags": []
   },
   "outputs": [
    {
     "data": {
      "text/html": [
       "<div>\n",
       "<style scoped>\n",
       "    .dataframe tbody tr th:only-of-type {\n",
       "        vertical-align: middle;\n",
       "    }\n",
       "\n",
       "    .dataframe tbody tr th {\n",
       "        vertical-align: top;\n",
       "    }\n",
       "\n",
       "    .dataframe thead th {\n",
       "        text-align: right;\n",
       "    }\n",
       "</style>\n",
       "<table border=\"1\" class=\"dataframe\">\n",
       "  <thead>\n",
       "    <tr style=\"text-align: right;\">\n",
       "      <th></th>\n",
       "      <th>customer_id</th>\n",
       "      <th>prediction0</th>\n",
       "      <th>prediction1</th>\n",
       "      <th>prediction2</th>\n",
       "      <th>prediction</th>\n",
       "    </tr>\n",
       "  </thead>\n",
       "  <tbody>\n",
       "    <tr>\n",
       "      <th>0</th>\n",
       "      <td>00000dbacae5abe5e23885899a1fa44253a17956c6d1c3...</td>\n",
       "      <td>0706016001 0706016002 0372860001 0610776002 07...</td>\n",
       "      <td>0568601043 0568601006 0751471001 0448509014 07...</td>\n",
       "      <td>0568601043 0568601006 0751471001 0448509014 09...</td>\n",
       "      <td>0568601043 0568601006 0751471001 0448509014 09...</td>\n",
       "    </tr>\n",
       "    <tr>\n",
       "      <th>1</th>\n",
       "      <td>0000423b00ade91418cceaf3b26c6af3dd342b51fd051e...</td>\n",
       "      <td>0706016001 0706016002 0372860001 0610776002 07...</td>\n",
       "      <td>0826211002 0924243001 0739590027 0800436010 09...</td>\n",
       "      <td>0826211002 0924243001 0739590027 0800436010 09...</td>\n",
       "      <td>0826211002 0924243001 0739590027 0800436010 09...</td>\n",
       "    </tr>\n",
       "    <tr>\n",
       "      <th>2</th>\n",
       "      <td>000058a12d5b43e67d225668fa1f8d618c13dc232df0ca...</td>\n",
       "      <td>0706016001 0706016002 0372860001 0610776002 07...</td>\n",
       "      <td>0794321007 0852643001 0852643003 0858883002 09...</td>\n",
       "      <td>0794321007 0852643001 0852643003 0924243001 08...</td>\n",
       "      <td>0794321007 0852643001 0852643003 0924243001 08...</td>\n",
       "    </tr>\n",
       "    <tr>\n",
       "      <th>3</th>\n",
       "      <td>00005ca1c9ed5f5146b52ac8639a40ca9d57aeff4d1bd2...</td>\n",
       "      <td>0706016001 0706016002 0372860001 0610776002 07...</td>\n",
       "      <td>0448509014 0751471001 0924243001 0924243002 05...</td>\n",
       "      <td>0448509014 0751471001 0924243001 0924243002 05...</td>\n",
       "      <td>0448509014 0751471001 0924243001 0924243002 05...</td>\n",
       "    </tr>\n",
       "    <tr>\n",
       "      <th>4</th>\n",
       "      <td>00006413d8573cd20ed7128e53b7b13819fe5cfc2d801f...</td>\n",
       "      <td>0706016001 0706016002 0372860001 0610776002 07...</td>\n",
       "      <td>0730683050 0791587015 0896152002 0924243001 09...</td>\n",
       "      <td>0730683050 0791587015 0924243001 0896152002 09...</td>\n",
       "      <td>0730683050 0791587015 0924243001 0896152002 09...</td>\n",
       "    </tr>\n",
       "  </tbody>\n",
       "</table>\n",
       "</div>"
      ],
      "text/plain": [
       "                                         customer_id  \\\n",
       "0  00000dbacae5abe5e23885899a1fa44253a17956c6d1c3...   \n",
       "1  0000423b00ade91418cceaf3b26c6af3dd342b51fd051e...   \n",
       "2  000058a12d5b43e67d225668fa1f8d618c13dc232df0ca...   \n",
       "3  00005ca1c9ed5f5146b52ac8639a40ca9d57aeff4d1bd2...   \n",
       "4  00006413d8573cd20ed7128e53b7b13819fe5cfc2d801f...   \n",
       "\n",
       "                                         prediction0  \\\n",
       "0  0706016001 0706016002 0372860001 0610776002 07...   \n",
       "1  0706016001 0706016002 0372860001 0610776002 07...   \n",
       "2  0706016001 0706016002 0372860001 0610776002 07...   \n",
       "3  0706016001 0706016002 0372860001 0610776002 07...   \n",
       "4  0706016001 0706016002 0372860001 0610776002 07...   \n",
       "\n",
       "                                         prediction1  \\\n",
       "0  0568601043 0568601006 0751471001 0448509014 07...   \n",
       "1  0826211002 0924243001 0739590027 0800436010 09...   \n",
       "2  0794321007 0852643001 0852643003 0858883002 09...   \n",
       "3  0448509014 0751471001 0924243001 0924243002 05...   \n",
       "4  0730683050 0791587015 0896152002 0924243001 09...   \n",
       "\n",
       "                                         prediction2  \\\n",
       "0  0568601043 0568601006 0751471001 0448509014 09...   \n",
       "1  0826211002 0924243001 0739590027 0800436010 09...   \n",
       "2  0794321007 0852643001 0852643003 0924243001 08...   \n",
       "3  0448509014 0751471001 0924243001 0924243002 05...   \n",
       "4  0730683050 0791587015 0924243001 0896152002 09...   \n",
       "\n",
       "                                          prediction  \n",
       "0  0568601043 0568601006 0751471001 0448509014 09...  \n",
       "1  0826211002 0924243001 0739590027 0800436010 09...  \n",
       "2  0794321007 0852643001 0852643003 0924243001 08...  \n",
       "3  0448509014 0751471001 0924243001 0924243002 05...  \n",
       "4  0730683050 0791587015 0924243001 0896152002 09...  "
      ]
     },
     "execution_count": 9,
     "metadata": {},
     "output_type": "execute_result"
    }
   ],
   "source": [
    "def cust_blend(dt, W = [1,1,1]):\n",
    "    #Global ensemble weights\n",
    "    #W = [1.15,0.95,0.85]\n",
    "\n",
    "    #Create a list of all model predictions\n",
    "    REC = []\n",
    "\n",
    "    # Second Try\n",
    "    REC.append(dt['prediction0'].split())\n",
    "    REC.append(dt['prediction1'].split())\n",
    "    REC.append(dt['prediction2'].split())\n",
    "    #Create a dictionary of items recommended.\n",
    "    #Assign a weight according the order of appearance and multiply by global weights\n",
    "    res = {}\n",
    "    for M in range(len(REC)):\n",
    "        for n, v in enumerate(REC[M]):\n",
    "            if v in res:\n",
    "                res[v] += (W[M]/(n+1))\n",
    "            else:\n",
    "                res[v] = (W[M]/(n+1))\n",
    "\n",
    "    # Sort dictionary by item weights\n",
    "    res = list(dict(sorted(res.items(), key=lambda item: -item[1])).keys())\n",
    "\n",
    "    # Return the top 12 items only\n",
    "    return ' '.join(res[:12])\n",
    "\n",
    "a['prediction'] = a.apply(cust_blend, W = [0.01,0.30,1.29], axis=1)\n",
    "a.head()"
   ]
  },
  {
   "cell_type": "code",
   "execution_count": 10,
   "id": "e5fbdb72",
   "metadata": {
    "execution": {
     "iopub.execute_input": "2022-05-01T21:20:34.557628Z",
     "iopub.status.busy": "2022-05-01T21:20:34.557363Z",
     "iopub.status.idle": "2022-05-01T21:20:47.455562Z",
     "shell.execute_reply": "2022-05-01T21:20:47.454487Z"
    },
    "papermill": {
     "duration": 12.91745,
     "end_time": "2022-05-01T21:20:47.458409",
     "exception": false,
     "start_time": "2022-05-01T21:20:34.540959",
     "status": "completed"
    },
    "tags": []
   },
   "outputs": [],
   "source": [
    "del a['prediction0']\n",
    "del a['prediction1']\n",
    "del a['prediction2']\n",
    "gc.collect()\n",
    "\n",
    "\n",
    "a.to_csv('submission.csv', index=False)"
   ]
  },
  {
   "cell_type": "code",
   "execution_count": null,
   "id": "8d547763",
   "metadata": {
    "papermill": {
     "duration": 0.01472,
     "end_time": "2022-05-01T21:20:47.488228",
     "exception": false,
     "start_time": "2022-05-01T21:20:47.473508",
     "status": "completed"
    },
    "tags": []
   },
   "outputs": [],
   "source": []
  }
 ],
 "metadata": {
  "kernelspec": {
   "display_name": "Python 3",
   "language": "python",
   "name": "python3"
  },
  "language_info": {
   "codemirror_mode": {
    "name": "ipython",
    "version": 3
   },
   "file_extension": ".py",
   "mimetype": "text/x-python",
   "name": "python",
   "nbconvert_exporter": "python",
   "pygments_lexer": "ipython3",
   "version": "3.7.12"
  },
  "papermill": {
   "default_parameters": {},
   "duration": 110.83339,
   "end_time": "2022-05-01T21:20:48.525717",
   "environment_variables": {},
   "exception": null,
   "input_path": "__notebook__.ipynb",
   "output_path": "__notebook__.ipynb",
   "parameters": {},
   "start_time": "2022-05-01T21:18:57.692327",
   "version": "2.3.4"
  }
 },
 "nbformat": 4,
 "nbformat_minor": 5
}
